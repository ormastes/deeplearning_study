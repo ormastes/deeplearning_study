{
 "cells": [
  {
   "cell_type": "code",
   "execution_count": 1,
   "id": "f5a73b8b-2951-476f-aef1-e7ce92b19850",
   "metadata": {},
   "outputs": [],
   "source": [
    "# Ask chatgpt canvas with next prompt\n",
    "# https://chatgpt.com/share/67f0a475-eefc-8013-a036-a746bf6f0194"
   ]
  },
  {
   "cell_type": "markdown",
   "id": "58022287-4636-4467-9cf3-49b89b47fa9f",
   "metadata": {
    "jupyter": {
     "source_hidden": true
    }
   },
   "source": [
    "CANVAS Make a complete  question answer dataset. put each line in comment. and make qa sets on the comment: \n",
    "example)\n",
    "given\n",
    "0. Test Target Object: Optional to provide a description of the test target.\n",
    "then\n",
    "// 0. Test Target Object: Optional to provide a description of the test target.\n",
    "{'Q': \"what is \"Test Target Object\"?\", \"A\": \"A description of the test target.\"},\n",
    "{'Q': \"Is \"Test Target Object\" optional during create \"Test Case\"?\", \"A\": \"Optinal\"},\n",
    "\n",
    "\n",
    "do it next given prompt)\n",
    "\n",
    "0. Test Target Object: Optional to provide a description of the test target.\n",
    "\n",
    "1. Test Target: An array of strings representing the exact lines of code under test.\n",
    "\n",
    "2. Test Object: A textual description inferred from the unit test, describing what is being tested and its objective.\n",
    "\n",
    "3. Input Data: An array of strings containing relevant input data for the test target, if applicable.\n",
    "\n",
    "4. Expected Output: An array of strings transforming the 'EXPECT_XXX()' assertions into a standardized format:\n",
    "\n",
    " * 'EXPECT_EQ(A, B)' ==> '\">>> %<< A == B;\", \"true\"'\n",
    " * 'EXPECT_EQ(A, \"B\")' ==> '\">>> %<< A;\", \"B\"'\n",
    "   * Do not add unnecessary backslash quotation (\\\") in result after \"%<< .....\"\n",
    " * 'EXPECT_TRUE(A)' ==> '\">>> %<< (A)==true;\", \"true\"'\n",
    " * 'EXPECT_FALSE(A)' ==> '\">>> %<< (A)==false;\", \"true\"'\n",
    " * 'EXPECT_NE(A, B)' ==> '\">>> %<< (A)!=(B);\", \"true\"'\n",
    "\n",
    "For example, if the unit test contains:\n",
    "```cpp\n",
    "EXPECT_EQ(A, B);\n",
    "EXPECT_TRUE(A);\n",
    "```\n",
    "The expected output should be:\n",
    "```json\n",
    "[\">>> %<< A;\", \"B\", \">>> %<< (A)==true;\", \"true\"]\n",
    "```\n",
    "5. Clang-repl Test: A transformed version of the unit test in a Clang-repl compatible format:\n",
    "\n",
    " * Preserve all global settings and relevant configurations under '// Global Setting'.\n",
    "  - Do not include header files that are already included in the \"Test Target\" or source json \"Code\"\n",
    " * Structure test cases as:\n",
    "  - '// Test Object: <description>'\n",
    "  - '// Test Case: <test_name>'\n",
    " * Convert 'EXPECT_XXX()' assertions into their respective transformed format from \"Expected Output\".\n",
    " * Maintain relevant unit test logic while commenting out non-essential parts:\n",
    "  - Replace 'namespace a_name {' with '/*namespace a_name {*/'\n",
    "  - Just delete closing braces '}' for namespaces or test cases.\n",
    "  - For functions that cannot be used, add comments like '// Next function cannot be called: canNOtCalled();'\n",
    "  - For irrelevant statements, add '// Next statement is useless: useLessStatement();'\n",
    " * Test generated must runnable in Clang-repl. which has special commend \"%<<\" which is same as \"std::cout <<\"\n",
    "  - Clang-repl prompt is \">>> \" rather than \"clang-repl> \"\n",
    " * \"Clang-repl Test\" include header files of \"Test Target\" automatically. So, include header files which \"Test Target\" does not include.\n",
    " * Close \"```json\" with \"```\" at the end of the JSON object.\n",
    " * Do not make multiline comments (/* */)\n",
    " * Do not make multiline statements or block which need to ends with \"\\\" in Clang-repl.\n",
    " * Do not add unnecessary backslash quotation (\\\") in result after \"%<< .....\"\n",
    " * \"condition\" or \"loop\" statement needs multiple \"Test Case\" or multiple verification on the same \"Test Case\".\n",
    "  - if loop in \"Test Target\", not enter loop must be tested.\n",
    "  - if condition in \"Test Target\", both cases must be tested."
   ]
  },
  {
   "cell_type": "markdown",
   "id": "e7d7c0f5-36fd-4b3c-8b32-345f5f620cec",
   "metadata": {},
   "source": [
    "qa for each line not number. number 4. and 5. has too few qa"
   ]
  },
  {
   "cell_type": "markdown",
   "id": "42069c8c-9d96-4eab-850a-1f666b6f2c11",
   "metadata": {},
   "source": [
    "can add more qa? even if there is no specific comment?"
   ]
  }
 ],
 "metadata": {
  "kernelspec": {
   "display_name": "Python 3 (ipykernel)",
   "language": "python",
   "name": "python3"
  },
  "language_info": {
   "codemirror_mode": {
    "name": "ipython",
    "version": 3
   },
   "file_extension": ".py",
   "mimetype": "text/x-python",
   "name": "python",
   "nbconvert_exporter": "python",
   "pygments_lexer": "ipython3",
   "version": "3.12.3"
  }
 },
 "nbformat": 4,
 "nbformat_minor": 5
}
