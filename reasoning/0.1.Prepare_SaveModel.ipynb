{
 "cells": [
  {
   "cell_type": "code",
   "execution_count": 1,
   "id": "27284476-baf2-4a45-a2c8-d5a201574c41",
   "metadata": {},
   "outputs": [
    {
     "name": "stderr",
     "output_type": "stream",
     "text": [
      "/usr/local/lib/python3.12/dist-packages/transformers/utils/hub.py:106: FutureWarning: Using `TRANSFORMERS_CACHE` is deprecated and will be removed in v5 of Transformers. Use `HF_HOME` instead.\n",
      "  warnings.warn(\n"
     ]
    }
   ],
   "source": [
    "# import and setup\n",
    "# ------------------------------------------------\n",
    "\n",
    "from transformers import AutoTokenizer, AutoModelForCausalLM\n",
    "import os\n",
    "import torch\n",
    "from Config import SimpleConfig\n",
    "\n",
    "config = SimpleConfig()\n",
    "\n",
    "model_name = config.model_full_name\n",
    "save_dir = config.model_path"
   ]
  },
  {
   "cell_type": "code",
   "execution_count": 2,
   "id": "42751597-770c-4e04-b368-7881b4449549",
   "metadata": {},
   "outputs": [
    {
     "data": {
      "text/plain": [
       "('/workspace/dev/workspace/dev/deeplearning_study/reasoning/saved_models/starcoder2-3b/tokenizer_config.json',\n",
       " '/workspace/dev/workspace/dev/deeplearning_study/reasoning/saved_models/starcoder2-3b/special_tokens_map.json',\n",
       " '/workspace/dev/workspace/dev/deeplearning_study/reasoning/saved_models/starcoder2-3b/vocab.json',\n",
       " '/workspace/dev/workspace/dev/deeplearning_study/reasoning/saved_models/starcoder2-3b/merges.txt',\n",
       " '/workspace/dev/workspace/dev/deeplearning_study/reasoning/saved_models/starcoder2-3b/added_tokens.json',\n",
       " '/workspace/dev/workspace/dev/deeplearning_study/reasoning/saved_models/starcoder2-3b/tokenizer.json')"
      ]
     },
     "execution_count": 2,
     "metadata": {},
     "output_type": "execute_result"
    }
   ],
   "source": [
    "# Save model and tokenizer\n",
    "# ------------------------------------------------\n",
    "\n",
    "# Create the directory if it doesn't exist\n",
    "os.makedirs(save_dir, exist_ok=True)\n",
    "\n",
    "# Download the model and tokenizer (this will cache them locally)\n",
    "tokenizer = AutoTokenizer.from_pretrained(model_name)\n",
    "model = AutoModelForCausalLM.from_pretrained(model_name)\n",
    "\n",
    "# Save the model and tokenizer to the specified directory\n",
    "model.save_pretrained(save_dir)\n",
    "tokenizer.save_pretrained(save_dir)"
   ]
  },
  {
   "cell_type": "code",
   "execution_count": 3,
   "id": "fbb9ab64-b12f-479f-b8b3-9ee33ceedeb2",
   "metadata": {},
   "outputs": [
    {
     "name": "stdout",
     "output_type": "stream",
     "text": [
      "Model and tokenizer saved to /workspace/dev/workspace/dev/deeplearning_study/reasoning/saved_models/starcoder2-3b\n"
     ]
    }
   ],
   "source": [
    "# Check model load\n",
    "# ------------------------------------------------\n",
    "\n",
    "model.to(torch.device(\"cuda\"))\n",
    "torch.save(model.state_dict(), config.model_name+\"_00.pth\")\n",
    "print(f\"Model and tokenizer saved to {save_dir}\")"
   ]
  },
  {
   "cell_type": "code",
   "execution_count": 4,
   "id": "fd916867-62ce-4dd9-b7e7-4e5aa91b8134",
   "metadata": {},
   "outputs": [
    {
     "name": "stderr",
     "output_type": "stream",
     "text": [
      "Setting `pad_token_id` to `eos_token_id`:0 for open-end generation.\n"
     ]
    },
    {
     "name": "stdout",
     "output_type": "stream",
     "text": [
      "Write a Python function to reverse a string.\n",
      "\n",
      "def reverse_string(s):\n",
      "    return s[::-1]\n",
      "\n",
      "print(reverse_string('hello'))\n",
      "print(reverse_string('world'))\n",
      "print(reverse_string('python'))\n",
      "print(reverse_string\n"
     ]
    }
   ],
   "source": [
    "# Check model inference\n",
    "# ------------------------------------------------\n",
    "\n",
    "prompt = \"Write a Python function to reverse a string.\"\n",
    "inputs = tokenizer(prompt, return_tensors=\"pt\").to(model.device)\n",
    "outputs = model.generate(**inputs, max_new_tokens=50)\n",
    "print(tokenizer.decode(outputs[0], skip_special_tokens=True))"
   ]
  },
  {
   "cell_type": "code",
   "execution_count": null,
   "id": "58d5e73f-7bc6-4ba4-8da2-fcc142048164",
   "metadata": {},
   "outputs": [],
   "source": []
  }
 ],
 "metadata": {
  "kernelspec": {
   "display_name": "Python 3 (ipykernel)",
   "language": "python",
   "name": "python3"
  },
  "language_info": {
   "codemirror_mode": {
    "name": "ipython",
    "version": 3
   },
   "file_extension": ".py",
   "mimetype": "text/x-python",
   "name": "python",
   "nbconvert_exporter": "python",
   "pygments_lexer": "ipython3",
   "version": "3.12.3"
  }
 },
 "nbformat": 4,
 "nbformat_minor": 5
}
