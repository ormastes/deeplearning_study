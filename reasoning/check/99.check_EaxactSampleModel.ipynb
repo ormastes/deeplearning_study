{
 "cells": [
  {
   "cell_type": "code",
   "execution_count": null,
   "id": "23f61b30-e62c-468a-9a40-03c69cdf8abe",
   "metadata": {},
   "outputs": [],
   "source": [
    "import copy\n",
    "import torch\n",
    "import torch.nn as nn\n",
    "from transformers import AutoModelForCausalLM\n",
    "\n",
    "class CustomStarcoder2ForCausalLM(AutoModelForCausalLM):\n",
    "    def __init__(self, config):\n",
    "        super().__init__(config)\n",
    "        # The model is initialized normally.\n",
    "    \n",
    "    def add_front_transformer_block(self, copy_weights: bool = True):\n",
    "        \"\"\"\n",
    "        Inserts a new transformer block at the beginning of the transformer's block list.\n",
    "        \n",
    "        Args:\n",
    "            copy_weights (bool): If True, the new block is initialized as a deep copy of the \n",
    "                                 current first block. Otherwise, it is freshly constructed.\n",
    "        \"\"\"\n",
    "        # Verify that the model has the expected attribute.\n",
    "        if not hasattr(self, \"transformer\") or not hasattr(self.transformer, \"h\"):\n",
    "            raise AttributeError(\"The model does not have attribute 'transformer.h'. \"\n",
    "                                 \"Please adjust the code to match your model's architecture.\")\n",
    "        \n",
    "        # Retrieve the current first transformer block.\n",
    "        original_first_block = self.transformer.h[0]\n",
    "        \n",
    "        # Create a new block.\n",
    "        new_block = copy.deepcopy(original_first_block) if copy_weights else type(original_first_block)()\n",
    "        \n",
    "        # Insert the new block at index 0.\n",
    "        self.transformer.h.insert(0, new_block)\n",
    "        \n",
    "        # Update the configuration to reflect the extra layer.\n",
    "        self.config.num_hidden_layers += 1"
   ]
  }
 ],
 "metadata": {
  "kernelspec": {
   "display_name": "Python 3 (ipykernel)",
   "language": "python",
   "name": "python3"
  },
  "language_info": {
   "codemirror_mode": {
    "name": "ipython",
    "version": 3
   },
   "file_extension": ".py",
   "mimetype": "text/x-python",
   "name": "python",
   "nbconvert_exporter": "python",
   "pygments_lexer": "ipython3",
   "version": "3.12.3"
  }
 },
 "nbformat": 4,
 "nbformat_minor": 5
}
