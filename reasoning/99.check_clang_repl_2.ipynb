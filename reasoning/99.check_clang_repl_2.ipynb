{
 "cells": [
  {
   "cell_type": "code",
   "execution_count": 1,
   "id": "2c0061ce-4175-4d60-b95f-458e531c0097",
   "metadata": {},
   "outputs": [],
   "source": [
    "from ClangReplInterface import ClangReplInterface\n",
    "clang_repl = ClangReplInterface()"
   ]
  },
  {
   "cell_type": "code",
   "execution_count": 2,
   "id": "b856b424-f219-4226-be93-4305547cfe87",
   "metadata": {},
   "outputs": [],
   "source": [
    "qa=\">>> int decrement(int a) {return a - 1;}\\n\" \\\n",
    "    +\">>> // Global Settings:\\n\" \\\n",
    "    +\">>> \\n\" \\\n",
    "    +\">>> // Test Object: Verify that decrement returns a non-zero result when called.\\n\" \\\n",
    "    +\">>> // Test Case: Decrement_NonZeroTest\\n\" \\\n",
    "    +\">>> int num = 5;\\n\" \\\n",
    "    +\">>> %<< (decrement(num))==4;\\n\" \\\n",
    "    +\"true\""
   ]
  },
  {
   "cell_type": "code",
   "execution_count": 3,
   "id": "722ee124-cda0-4eb9-bf73-72be26f00c60",
   "metadata": {},
   "outputs": [
    {
     "name": "stdout",
     "output_type": "stream",
     "text": [
      "['>>> int decrement(int a) {return a - 1;}', '>>> // Global Settings:', '>>> ', '>>> // Test Object: Verify that decrement returns a non-zero result when called.', '>>> // Test Case: Decrement_NonZeroTest', '>>> int num = 5;', '>>> %<< (decrement(num))==4;', 'true']\n",
      ">>> int decrement(int a) {return a - 1;}\n",
      ">>> // Global Settings:\n",
      ">>> \n",
      ">>> // Test Object: Verify that decrement returns a non-zero result when called.\n",
      ">>> // Test Case: Decrement_NonZeroTest\n",
      ">>> int num = 5;\n",
      ">>> %<< (decrement(num))==4;\n",
      "true\n",
      "8\n",
      ">>> int decrement(int a) {return a - 1;}\n",
      "Ouput line 1:  \n",
      ">>> // Global Settings:\n",
      "Ouput line 2:  \n",
      ">>> \n",
      ">>> // Test Object: Verify that decrement returns a non-zero result when called.\n",
      "Ouput line 4:  \n",
      ">>> // Test Case: Decrement_NonZeroTest\n",
      "Ouput line 5:  \n",
      ">>> int num = 5;\n",
      "Ouput line 6:  \n",
      ">>> %<< (decrement(num))==4;\n",
      "Ouput line 7:  1\n",
      "true\n"
     ]
    },
    {
     "data": {
      "text/plain": [
       "('ok', '')"
      ]
     },
     "execution_count": 3,
     "metadata": {},
     "output_type": "execute_result"
    }
   ],
   "source": [
    "clang_repl.run_verify(qa)"
   ]
  },
  {
   "cell_type": "code",
   "execution_count": 4,
   "id": "44aa4c25-8a14-43c5-9f79-4105d5fd1f13",
   "metadata": {},
   "outputs": [
    {
     "ename": "SyntaxError",
     "evalue": "invalid syntax (2188596351.py, line 1)",
     "output_type": "error",
     "traceback": [
      "\u001b[0;36m  Cell \u001b[0;32mIn[4], line 1\u001b[0;36m\u001b[0m\n\u001b[0;31m    int decrement(int num) {return num;}\u001b[0m\n\u001b[0m        ^\u001b[0m\n\u001b[0;31mSyntaxError\u001b[0m\u001b[0;31m:\u001b[0m invalid syntax\n"
     ]
    }
   ],
   "source": [
    ">>> int decrement(int num) {return num;}\n",
    ">>> // Global Settings:\n",
    ">>>\n",
    ">>> // Test Object: Verify that decrement returns a non-zero result when called.\n",
    ">>> // Test Case: Decrement_NonZeroTest\n",
    ">>> int num = 5;\n",
    ">>> %<< (decrement(num))==4;\n",
    "true\n",
    "Response:  Expected Output: true, Actual Output: 0"
   ]
  }
 ],
 "metadata": {
  "kernelspec": {
   "display_name": "Python 3 (ipykernel)",
   "language": "python",
   "name": "python3"
  },
  "language_info": {
   "codemirror_mode": {
    "name": "ipython",
    "version": 3
   },
   "file_extension": ".py",
   "mimetype": "text/x-python",
   "name": "python",
   "nbconvert_exporter": "python",
   "pygments_lexer": "ipython3",
   "version": "3.12.3"
  }
 },
 "nbformat": 4,
 "nbformat_minor": 5
}
