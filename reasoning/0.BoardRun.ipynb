{
 "cells": [
  {
   "cell_type": "code",
   "execution_count": 1,
   "id": "d8c9fcc2-fe96-4381-ba06-ce0c58cba22d",
   "metadata": {},
   "outputs": [],
   "source": [
    "!rm -rf \"runs/starcoder2_optuna_experiment\""
   ]
  },
  {
   "cell_type": "code",
   "execution_count": 3,
   "id": "a3771a3b-cda6-416e-b124-ecf7507e6356",
   "metadata": {},
   "outputs": [],
   "source": [
    "!rm -rf \"runs/starcoder2_experiment\""
   ]
  },
  {
   "cell_type": "code",
   "execution_count": 4,
   "id": "b9b050c9-e953-47bd-b4b5-12374de09e86",
   "metadata": {},
   "outputs": [],
   "source": [
    "!rm -rf \"runs/starcoder2_reasoning\""
   ]
  },
  {
   "cell_type": "code",
   "execution_count": null,
   "id": "1ba3260e-2f4a-4620-b3ea-fe0f231307c8",
   "metadata": {},
   "outputs": [
    {
     "name": "stdout",
     "output_type": "stream",
     "text": [
      "TensorFlow installation not found - running with reduced feature set.\n",
      "\n",
      "NOTE: Using experimental fast data loading logic. To disable, pass\n",
      "    \"--load_fast=false\" and report issues on GitHub. More details:\n",
      "    https://github.com/tensorflow/tensorboard/issues/4784\n",
      "\n",
      "TensorBoard 2.16.2 at http://dl:6006/ (Press CTRL+C to quit)\n"
     ]
    }
   ],
   "source": [
    "!tensorboard --logdir=runs --reload_interval 3"
   ]
  },
  {
   "cell_type": "code",
   "execution_count": null,
   "id": "c5bcb056-094c-43f6-9016-53c14bf07551",
   "metadata": {},
   "outputs": [],
   "source": []
  }
 ],
 "metadata": {
  "kernelspec": {
   "display_name": "Python 3 (ipykernel)",
   "language": "python",
   "name": "python3"
  },
  "language_info": {
   "codemirror_mode": {
    "name": "ipython",
    "version": 3
   },
   "file_extension": ".py",
   "mimetype": "text/x-python",
   "name": "python",
   "nbconvert_exporter": "python",
   "pygments_lexer": "ipython3",
   "version": "3.12.3"
  }
 },
 "nbformat": 4,
 "nbformat_minor": 5
}
