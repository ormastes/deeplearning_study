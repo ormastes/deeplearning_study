{
 "cells": [
  {
   "cell_type": "code",
   "execution_count": 1,
   "id": "64275fe7-5a29-4ce6-929e-0608a413d875",
   "metadata": {},
   "outputs": [],
   "source": [
    "import torch\n",
    "import torch.nn as nn\n",
    "import torch.optim as optim\n",
    "from torch.utils.data import DataLoader"
   ]
  },
  {
   "cell_type": "code",
   "execution_count": 2,
   "id": "29561177-93b3-4b00-92f2-d9409f923fa0",
   "metadata": {},
   "outputs": [],
   "source": [
    "import torch\n",
    "import numpy as np\n",
    "import random\n",
    "import os\n",
    "def set_random_seed(seed=42):\n",
    "    torch.manual_seed(seed)\n",
    "    if torch.cuda.is_available():\n",
    "        torch.cuda.manual_seed(seed)\n",
    "        torch.cuda.manual_seed_all(seed)  # For multi-GPU setups\n",
    "    np.random.seed(seed)\n",
    "    random.seed(seed)\n",
    "    os.environ['PYTHONHASHSEED'] = str(seed)\n",
    "    torch.backends.cudnn.deterministic = True\n",
    "    torch.backends.cudnn.benchmark = False\n",
    "    print(f\"Random seed set as {seed}\")\n",
    "    \n",
    "set_random_seed()"
   ]
  },
  {
   "cell_type": "code",
   "execution_count": 4,
   "id": "39f6b036-9a59-4d4f-938c-e158c9fa30bb",
   "metadata": {},
   "outputs": [],
   "source": [
    "import transformers\n",
    "from transformers import AutoTokenizer, AutoModelForQuestionAnswering\n",
    "import torch"
   ]
  },
  {
   "cell_type": "code",
   "execution_count": 5,
   "id": "3e8de3fc-746a-48eb-8107-52296e5f51ee",
   "metadata": {},
   "outputs": [
    {
     "data": {
      "application/vnd.jupyter.widget-view+json": {
       "model_id": "63d9572891204ba3963548163a092e69",
       "version_major": 2,
       "version_minor": 0
      },
      "text/plain": [
       "tokenizer_config.json:   0%|          | 0.00/111 [00:00<?, ?B/s]"
      ]
     },
     "metadata": {},
     "output_type": "display_data"
    },
    {
     "data": {
      "application/vnd.jupyter.widget-view+json": {
       "model_id": "69dea0ecf9a04090a30640cfd0a7c3ff",
       "version_major": 2,
       "version_minor": 0
      },
      "text/plain": [
       "config.json:   0%|          | 0.00/591 [00:00<?, ?B/s]"
      ]
     },
     "metadata": {},
     "output_type": "display_data"
    },
    {
     "data": {
      "application/vnd.jupyter.widget-view+json": {
       "model_id": "9946b3ec0e5f484fa2b35413674ec60c",
       "version_major": 2,
       "version_minor": 0
      },
      "text/plain": [
       "vocab.txt:   0%|          | 0.00/263k [00:00<?, ?B/s]"
      ]
     },
     "metadata": {},
     "output_type": "display_data"
    },
    {
     "data": {
      "application/vnd.jupyter.widget-view+json": {
       "model_id": "50debd1eb7414c30adc71167cecbe3e3",
       "version_major": 2,
       "version_minor": 0
      },
      "text/plain": [
       "special_tokens_map.json:   0%|          | 0.00/112 [00:00<?, ?B/s]"
      ]
     },
     "metadata": {},
     "output_type": "display_data"
    },
    {
     "data": {
      "application/vnd.jupyter.widget-view+json": {
       "model_id": "14c0e907a07b4014b67f560476d5fb47",
       "version_major": 2,
       "version_minor": 0
      },
      "text/plain": [
       "model.safetensors:   0%|          | 0.00/449M [00:00<?, ?B/s]"
      ]
     },
     "metadata": {},
     "output_type": "display_data"
    }
   ],
   "source": [
    "model_name = \"monologg/koelectra-base-v3-finetuned-korquad\"\n",
    "tonkenizer = AutoTokenizer.from_pretrained(model_name)\n",
    "model = AutoModelForQuestionAnswering.from_pretrained(model_name)"
   ]
  },
  {
   "cell_type": "code",
   "execution_count": 6,
   "id": "23e11746-a572-409e-84f2-62db42eeb76e",
   "metadata": {},
   "outputs": [],
   "source": [
    "documents= [\"우리 회사는 인공지능 연구를 하고 있습니다.\",\n",
    "            \"우리 제품은 2023년에 출시 되었습니다.\"]\n",
    "question = \"우리회사는 무슨 연구를 하나요?\""
   ]
  },
  {
   "cell_type": "code",
   "execution_count": 11,
   "id": "7769e729-ac22-4381-aa59-d784d816f634",
   "metadata": {},
   "outputs": [
    {
     "data": {
      "text/plain": [
       "'우리 회사는 인공지능 연구를 하고 있습니다.'"
      ]
     },
     "execution_count": 11,
     "metadata": {},
     "output_type": "execute_result"
    }
   ],
   "source": [
    "def select_best_context(documents, question):\n",
    "    result= []\n",
    "    for doc in documents:\n",
    "        doc_bool = []\n",
    "        for word in question.split():\n",
    "            doc_bool.append(word in doc)\n",
    "        doc_score = sum(doc_bool)\n",
    "        result.append(doc_score)\n",
    "    best_context_idx = result.index(max(result))\n",
    "    best_context = documents[best_context_idx]\n",
    "    return best_context\n",
    "\n",
    "best_context = select_best_context(documents, question)\n",
    "best_context"
   ]
  },
  {
   "cell_type": "code",
   "execution_count": null,
   "id": "bfe529ca-6593-4209-9b2a-ef67712b6254",
   "metadata": {},
   "outputs": [],
   "source": []
  }
 ],
 "metadata": {
  "kernelspec": {
   "display_name": "Python 3 (ipykernel)",
   "language": "python",
   "name": "python3"
  },
  "language_info": {
   "codemirror_mode": {
    "name": "ipython",
    "version": 3
   },
   "file_extension": ".py",
   "mimetype": "text/x-python",
   "name": "python",
   "nbconvert_exporter": "python",
   "pygments_lexer": "ipython3",
   "version": "3.12.3"
  }
 },
 "nbformat": 4,
 "nbformat_minor": 5
}
