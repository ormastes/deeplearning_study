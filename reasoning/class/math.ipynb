{
 "cells": [
  {
   "cell_type": "code",
   "execution_count": 1,
   "id": "c304cce0-7628-467d-b7b0-5d84e6d7507c",
   "metadata": {},
   "outputs": [],
   "source": [
    "import pandas as pd \n",
    "df = pd.read_csv('data/performance.csv')"
   ]
  },
  {
   "cell_type": "code",
   "execution_count": 2,
   "id": "d4473bbc-e880-46f8-ab33-6669e2471c02",
   "metadata": {},
   "outputs": [
    {
     "data": {
      "text/plain": [
       "array(['B', 'C', 'A', 'D', 'E'], dtype=object)"
      ]
     },
     "execution_count": 2,
     "metadata": {},
     "output_type": "execute_result"
    }
   ],
   "source": [
    "df['TEAM'].unique()"
   ]
  },
  {
   "cell_type": "code",
   "execution_count": 3,
   "id": "21126f37-7b8a-466e-8417-6a48714a2bd6",
   "metadata": {},
   "outputs": [],
   "source": [
    "df_a = df[df['TEAM'] == 'A']\n",
    "df_b = df[df['TEAM'] == 'B']\n",
    "df_c = df[df['TEAM'] == 'C']\n",
    "df_d = df[df['TEAM'] == 'D']\n",
    "df_e = df[df['TEAM'] == 'E']"
   ]
  },
  {
   "cell_type": "code",
   "execution_count": 4,
   "id": "26942488-ab7b-4b2c-baf3-43971fb23895",
   "metadata": {},
   "outputs": [],
   "source": [
    "df_a_ach = df_a['ACHIEVEMENT']\n",
    "df_b_ach = df_b['ACHIEVEMENT']\n",
    "df_c_ach = df_c['ACHIEVEMENT']\n",
    "df_d_ach = df_d['ACHIEVEMENT']\n",
    "df_e_ach = df_e['ACHIEVEMENT']"
   ]
  },
  {
   "cell_type": "code",
   "execution_count": 5,
   "id": "23988b12-4c5e-40ae-a23c-699953a67276",
   "metadata": {},
   "outputs": [
    {
     "data": {
      "text/plain": [
       "(0.9917360440600248, 0.8545319451007725)"
      ]
     },
     "execution_count": 5,
     "metadata": {},
     "output_type": "execute_result"
    }
   ],
   "source": [
    "import scipy as sp\n",
    "test_stat, p = sp.stats.shapiro(df_a_ach)\n",
    "(test_stat, p)"
   ]
  },
  {
   "cell_type": "code",
   "execution_count": 6,
   "id": "3329bed2-8ba7-436c-a453-68c81c59a6f3",
   "metadata": {},
   "outputs": [
    {
     "data": {
      "text/plain": [
       "(0.9808056990812756, 0.010389426534438832)"
      ]
     },
     "execution_count": 6,
     "metadata": {},
     "output_type": "execute_result"
    }
   ],
   "source": [
    "test_stat, p = sp.stats.shapiro(df_b_ach)\n",
    "(test_stat, p)"
   ]
  },
  {
   "cell_type": "code",
   "execution_count": 7,
   "id": "433fcc1e-55c3-431e-acc8-26b7befa6925",
   "metadata": {},
   "outputs": [],
   "source": [
    "import numpy as np"
   ]
  },
  {
   "cell_type": "code",
   "execution_count": 8,
   "id": "33a721a6-d60f-4670-8d92-d8ec486d1442",
   "metadata": {},
   "outputs": [],
   "source": [
    "df_a_mean = np.mean(df_a_ach)\n",
    "df_b_mean = np.mean(df_b_ach)\n",
    "df_a_var = np.var(df_a_ach)\n",
    "df_b_var = np.var(df_b_ach)\n",
    "n1 = len(df_a_ach)\n",
    "n2 = len(df_b_ach)"
   ]
  },
  {
   "cell_type": "code",
   "execution_count": 9,
   "id": "3845c147-a928-4d5a-b126-80f9846bc39b",
   "metadata": {},
   "outputs": [
    {
     "data": {
      "text/plain": [
       "1.8962848603648552"
      ]
     },
     "execution_count": 9,
     "metadata": {},
     "output_type": "execute_result"
    }
   ],
   "source": [
    "s = ((df_a_var)/n1+(df_b_var/n2))**0.5\n",
    "s"
   ]
  },
  {
   "cell_type": "code",
   "execution_count": 10,
   "id": "c995a61c-5fba-4020-b60f-00dcae27a031",
   "metadata": {},
   "outputs": [
    {
     "data": {
      "text/plain": [
       "0.9615739353898897"
      ]
     },
     "execution_count": 10,
     "metadata": {},
     "output_type": "execute_result"
    }
   ],
   "source": [
    "z_value = (df_b_mean - df_a_mean)/s\n",
    "z_value"
   ]
  },
  {
   "cell_type": "code",
   "execution_count": 11,
   "id": "f240316e-6d8e-4203-9028-11b96cc0c50c",
   "metadata": {},
   "outputs": [
    {
     "data": {
      "text/plain": [
       "0.16813183477339466"
      ]
     },
     "execution_count": 11,
     "metadata": {},
     "output_type": "execute_result"
    }
   ],
   "source": [
    "z_dist = sp.stats.norm(0, 1)\n",
    "p_value = 1 - z_dist.cdf(z_value)\n",
    "p_value"
   ]
  },
  {
   "cell_type": "code",
   "execution_count": 12,
   "id": "80e13213-0357-47df-923a-03e5bc9bcdc9",
   "metadata": {},
   "outputs": [
    {
     "data": {
      "text/plain": [
       "(0.9355076279747488, 0.17517079808299785)"
      ]
     },
     "execution_count": 12,
     "metadata": {},
     "output_type": "execute_result"
    }
   ],
   "source": [
    "test_stat, p = sp.stats.ttest_ind(df_b_ach, df_a_ach, alternative='greater')\n",
    "(test_stat, p)"
   ]
  },
  {
   "cell_type": "code",
   "execution_count": 13,
   "id": "ae158bef-4f2d-4d52-9ff7-b1d1234dbb15",
   "metadata": {},
   "outputs": [
    {
     "data": {
      "text/plain": [
       "(1.35398583683992, 0.08787044816326)"
      ]
     },
     "execution_count": 13,
     "metadata": {},
     "output_type": "execute_result"
    }
   ],
   "source": [
    "test_stat, p = sp.stats.ranksums(df_b_ach, df_a_ach, alternative='greater')\n",
    "(test_stat, p)                                 "
   ]
  },
  {
   "cell_type": "code",
   "execution_count": 14,
   "id": "a701ec05-2879-465c-84d3-df5cf13a4f6a",
   "metadata": {},
   "outputs": [
    {
     "data": {
      "text/plain": [
       "(4.075678014368108, 0.39586081869788264)"
      ]
     },
     "execution_count": 14,
     "metadata": {},
     "output_type": "execute_result"
    }
   ],
   "source": [
    "test_stat, p = sp.stats.bartlett(df_a_ach,df_b_ach, df_c_ach,df_d_ach, df_e_ach)\n",
    "(test_stat, p)"
   ]
  },
  {
   "cell_type": "code",
   "execution_count": 15,
   "id": "b3564c38-382d-4651-903b-210154344ff4",
   "metadata": {},
   "outputs": [
    {
     "data": {
      "text/plain": [
       "(57.079329705742886, 1.1906568165839682e-11)"
      ]
     },
     "execution_count": 15,
     "metadata": {},
     "output_type": "execute_result"
    }
   ],
   "source": [
    "test_stat, p = sp.stats.kruskal(df_a_ach,df_b_ach, df_c_ach,df_d_ach, df_e_ach)\n",
    "(test_stat, p)"
   ]
  },
  {
   "cell_type": "code",
   "execution_count": 16,
   "id": "e1659108-3a59-485b-b27a-f4621a7ecf89",
   "metadata": {},
   "outputs": [
    {
     "data": {
      "text/plain": [
       "(14.593885166332635, 1.3732194030370688e-11)"
      ]
     },
     "execution_count": 16,
     "metadata": {},
     "output_type": "execute_result"
    }
   ],
   "source": [
    "test_stat, p = sp.stats.f_oneway(df_a_ach, df_b_ach, df_c_ach, df_d_ach, df_e_ach)\n",
    "(test_stat, p)"
   ]
  },
  {
   "cell_type": "code",
   "execution_count": 17,
   "id": "fccc1623-8611-4416-9024-209b412620ac",
   "metadata": {},
   "outputs": [],
   "source": [
    "df['C_OR_NOT'] = np.where(df['TEAM']=='C', 'C', 'not_C')"
   ]
  },
  {
   "cell_type": "code",
   "execution_count": 18,
   "id": "85ad226d-3b30-49a7-9680-c7dc6194e348",
   "metadata": {},
   "outputs": [
    {
     "data": {
      "text/html": [
       "<div>\n",
       "<style scoped>\n",
       "    .dataframe tbody tr th:only-of-type {\n",
       "        vertical-align: middle;\n",
       "    }\n",
       "\n",
       "    .dataframe tbody tr th {\n",
       "        vertical-align: top;\n",
       "    }\n",
       "\n",
       "    .dataframe thead th {\n",
       "        text-align: right;\n",
       "    }\n",
       "</style>\n",
       "<table border=\"1\" class=\"dataframe\">\n",
       "  <thead>\n",
       "    <tr style=\"text-align: right;\">\n",
       "      <th>TRAINING</th>\n",
       "      <th>completed</th>\n",
       "      <th>none</th>\n",
       "    </tr>\n",
       "    <tr>\n",
       "      <th>C_OR_NOT</th>\n",
       "      <th></th>\n",
       "      <th></th>\n",
       "    </tr>\n",
       "  </thead>\n",
       "  <tbody>\n",
       "    <tr>\n",
       "      <th>C</th>\n",
       "      <td>117</td>\n",
       "      <td>202</td>\n",
       "    </tr>\n",
       "    <tr>\n",
       "      <th>not_C</th>\n",
       "      <td>241</td>\n",
       "      <td>440</td>\n",
       "    </tr>\n",
       "  </tbody>\n",
       "</table>\n",
       "</div>"
      ],
      "text/plain": [
       "TRAINING  completed  none\n",
       "C_OR_NOT                 \n",
       "C               117   202\n",
       "not_C           241   440"
      ]
     },
     "execution_count": 18,
     "metadata": {},
     "output_type": "execute_result"
    }
   ],
   "source": [
    "obs = pd.crosstab(df['C_OR_NOT'], df['TRAINING'])\n",
    "obs"
   ]
  },
  {
   "cell_type": "code",
   "execution_count": 19,
   "id": "57602422-7d2e-4e5c-98c6-17054a87c143",
   "metadata": {},
   "outputs": [
    {
     "data": {
      "text/plain": [
       "array(['none', 'completed'], dtype=object)"
      ]
     },
     "execution_count": 19,
     "metadata": {},
     "output_type": "execute_result"
    }
   ],
   "source": [
    "df['TRAINING'].unique()"
   ]
  },
  {
   "cell_type": "code",
   "execution_count": 20,
   "id": "da391a07-45ac-436b-9b72-8664c62ec54f",
   "metadata": {},
   "outputs": [
    {
     "data": {
      "text/plain": [
       "array(['not_C', 'C'], dtype=object)"
      ]
     },
     "execution_count": 20,
     "metadata": {},
     "output_type": "execute_result"
    }
   ],
   "source": [
    "df['C_OR_NOT'].unique()"
   ]
  },
  {
   "cell_type": "code",
   "execution_count": 21,
   "id": "57ea3212-fe08-4ff2-848f-e8c761eb13c7",
   "metadata": {},
   "outputs": [],
   "source": [
    "obs = pd.crosstab(df['TEAM'], df['EDUCATION'])"
   ]
  },
  {
   "cell_type": "code",
   "execution_count": 22,
   "id": "66d2b359-135a-4afc-a6eb-f5051dfe8f21",
   "metadata": {},
   "outputs": [
    {
     "data": {
      "text/plain": [
       "(14.593885166332635, 1.3732194030370688e-11)"
      ]
     },
     "execution_count": 22,
     "metadata": {},
     "output_type": "execute_result"
    }
   ],
   "source": [
    "chi2 , p_value, d, expected = sp.stats.chi2_contingency(obs)\n",
    "(test_stat, p)"
   ]
  },
  {
   "cell_type": "code",
   "execution_count": null,
   "id": "2801f0db-7e33-4a09-a25c-9b873189f75d",
   "metadata": {},
   "outputs": [],
   "source": []
  }
 ],
 "metadata": {
  "kernelspec": {
   "display_name": "Python 3 (ipykernel)",
   "language": "python",
   "name": "python3"
  },
  "language_info": {
   "codemirror_mode": {
    "name": "ipython",
    "version": 3
   },
   "file_extension": ".py",
   "mimetype": "text/x-python",
   "name": "python",
   "nbconvert_exporter": "python",
   "pygments_lexer": "ipython3",
   "version": "3.12.3"
  }
 },
 "nbformat": 4,
 "nbformat_minor": 5
}
